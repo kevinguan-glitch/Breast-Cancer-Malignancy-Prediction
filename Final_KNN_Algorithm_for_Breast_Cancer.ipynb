{
  "nbformat": 4,
  "nbformat_minor": 0,
  "metadata": {
    "colab": {
      "name": "Final KNN Algorithm for Breast Cancer.ipynb",
      "provenance": [],
      "collapsed_sections": [],
      "authorship_tag": "ABX9TyNVLsScAbpi2Ap6DXoL/ycu",
      "include_colab_link": true
    },
    "kernelspec": {
      "name": "python3",
      "display_name": "Python 3"
    },
    "language_info": {
      "name": "python"
    }
  },
  "cells": [
    {
      "cell_type": "markdown",
      "metadata": {
        "id": "view-in-github",
        "colab_type": "text"
      },
      "source": [
        "<a href=\"https://colab.research.google.com/github/kevinguan-glitch/Breast-Cancer-Malignancy-Prediction/blob/main/Final_KNN_Algorithm_for_Breast_Cancer.ipynb\" target=\"_parent\"><img src=\"https://colab.research.google.com/assets/colab-badge.svg\" alt=\"Open In Colab\"/></a>"
      ]
    },
    {
      "cell_type": "markdown",
      "metadata": {
        "id": "iJyLM_6Ycpbi"
      },
      "source": [
        "#K Nearest Neighbors \n",
        "\n",
        "Simple and can be used for both regression and classification \n",
        "\n",
        "For the classification problems, the algorithm compares the distance from a new observation to that of each observation in a training set. It returns the closest k neighbor of the new observation"
      ]
    },
    {
      "cell_type": "code",
      "metadata": {
        "colab": {
          "base_uri": "https://localhost:8080/"
        },
        "id": "76mNKf7XVUYF",
        "outputId": "c39b2337-ec25-4a2a-b731-efd82c03273a"
      },
      "source": [
        "%matplotlib inline\n",
        "import matplotlib.pyplot as plt\n",
        "import pandas as pd \n",
        "print(\"pandas version:\", pd.__version__)\n",
        "\n",
        "import matplotlib\n",
        "print(\"matplotlib version:\", matplotlib.__version__)\n",
        "import matplotlib.pyplot as plt\n",
        "\n",
        "import numpy as np\n",
        "print(\"NumPy version:\", np.__version__)\n",
        "\n",
        "import scipy as sp\n",
        "print(\"SciPy version:\", sp.__version__)\n",
        "\n",
        "import IPython\n",
        "print(\"IPython version:\", IPython.__version__)\n",
        "from IPython.display import display\n",
        "\n",
        "import sklearn \n",
        "print(\"scikit-learn version:\", sklearn.__version__)\n",
        "\n",
        "from sklearn.linear_model import LinearRegression\n",
        "from sklearn.model_selection import train_test_split\n",
        "from sklearn.metrics import classification_report, confusion_matrix\n",
        "from sklearn.model_selection import cross_val_score\n",
        "from sklearn import preprocessing\n",
        "from sklearn import metrics\n",
        "\n",
        "import torch\n",
        "print(\"Torch version:\", torch.__version__)\n",
        "import torch.nn as nn\n",
        "import torchvision\n",
        "print(\"TorchVision version:\", torchvision.__version__)\n",
        "import torch.optim as optim\n",
        "from torch.utils import data\n",
        "from torch.optim import lr_scheduler\n",
        "from torch.nn.functional import softmax\n",
        "from torchvision import datasets, models, transforms\n",
        "import seaborn as sns\n",
        "import random\n",
        "import math \n",
        "from math import sqrt \n",
        "import time\n",
        "import copy\n",
        "import os\n",
        "from google.colab import drive"
      ],
      "execution_count": null,
      "outputs": [
        {
          "output_type": "stream",
          "text": [
            "pandas version: 1.1.5\n",
            "matplotlib version: 3.2.2\n",
            "NumPy version: 1.19.5\n",
            "SciPy version: 1.4.1\n",
            "IPython version: 5.5.0\n",
            "scikit-learn version: 0.22.2.post1\n",
            "Torch version: 1.8.1+cu101\n",
            "TorchVision version: 0.9.1+cu101\n"
          ],
          "name": "stdout"
        }
      ]
    },
    {
      "cell_type": "markdown",
      "metadata": {
        "id": "bdQxiV5ebVK-"
      },
      "source": [
        "The data is already preinstalled in the sklearn dataset"
      ]
    },
    {
      "cell_type": "code",
      "metadata": {
        "colab": {
          "base_uri": "https://localhost:8080/"
        },
        "id": "Zj6v2C6va4Kq",
        "outputId": "485a17dc-349f-457b-bebf-bee6ea24950a"
      },
      "source": [
        "from sklearn.datasets import load_breast_cancer\n",
        "cancer = load_breast_cancer()\n",
        "print(\"The keys are \\n\", cancer.keys(), \"\\n\")\n",
        "print(\"Shape of cancer data: \", cancer.data.shape, \"\\n\") #569 data points, 30 features \n",
        "print(\"Feature names are \\n\", cancer.feature_names)"
      ],
      "execution_count": null,
      "outputs": [
        {
          "output_type": "stream",
          "text": [
            "The keys are \n",
            " dict_keys(['data', 'target', 'target_names', 'DESCR', 'feature_names', 'filename']) \n",
            "\n",
            "Shape of cancer data:  (569, 30) \n",
            "\n",
            "Feature names are \n",
            " ['mean radius' 'mean texture' 'mean perimeter' 'mean area'\n",
            " 'mean smoothness' 'mean compactness' 'mean concavity'\n",
            " 'mean concave points' 'mean symmetry' 'mean fractal dimension'\n",
            " 'radius error' 'texture error' 'perimeter error' 'area error'\n",
            " 'smoothness error' 'compactness error' 'concavity error'\n",
            " 'concave points error' 'symmetry error' 'fractal dimension error'\n",
            " 'worst radius' 'worst texture' 'worst perimeter' 'worst area'\n",
            " 'worst smoothness' 'worst compactness' 'worst concavity'\n",
            " 'worst concave points' 'worst symmetry' 'worst fractal dimension']\n"
          ],
          "name": "stdout"
        }
      ]
    },
    {
      "cell_type": "code",
      "metadata": {
        "colab": {
          "base_uri": "https://localhost:8080/"
        },
        "id": "YATZLz30buPA",
        "outputId": "b16603d9-fe9f-4f2a-b245-029bb38dd211"
      },
      "source": [
        "print(\"Sample counts per class: \\n\", {n: v for n, v in zip(cancer.target_names, np.bincount(cancer.target))})"
      ],
      "execution_count": null,
      "outputs": [
        {
          "output_type": "stream",
          "text": [
            "Sample counts per class: \n",
            " {'malignant': 212, 'benign': 357}\n"
          ],
          "name": "stdout"
        }
      ]
    },
    {
      "cell_type": "code",
      "metadata": {
        "colab": {
          "base_uri": "https://localhost:8080/"
        },
        "id": "6U8Teq-_cYen",
        "outputId": "cf52f7ff-89ff-4537-cfec-6fd1c49b30a4"
      },
      "source": [
        "!pip install mglearn\n",
        "import mglearn"
      ],
      "execution_count": null,
      "outputs": [
        {
          "output_type": "stream",
          "text": [
            "Requirement already satisfied: mglearn in /usr/local/lib/python3.7/dist-packages (0.1.9)\n",
            "Requirement already satisfied: pandas in /usr/local/lib/python3.7/dist-packages (from mglearn) (1.1.5)\n",
            "Requirement already satisfied: cycler in /usr/local/lib/python3.7/dist-packages (from mglearn) (0.10.0)\n",
            "Requirement already satisfied: numpy in /usr/local/lib/python3.7/dist-packages (from mglearn) (1.19.5)\n",
            "Requirement already satisfied: matplotlib in /usr/local/lib/python3.7/dist-packages (from mglearn) (3.2.2)\n",
            "Requirement already satisfied: joblib in /usr/local/lib/python3.7/dist-packages (from mglearn) (1.0.1)\n",
            "Requirement already satisfied: pillow in /usr/local/lib/python3.7/dist-packages (from mglearn) (7.1.2)\n",
            "Requirement already satisfied: imageio in /usr/local/lib/python3.7/dist-packages (from mglearn) (2.4.1)\n",
            "Requirement already satisfied: scikit-learn in /usr/local/lib/python3.7/dist-packages (from mglearn) (0.22.2.post1)\n",
            "Requirement already satisfied: python-dateutil>=2.7.3 in /usr/local/lib/python3.7/dist-packages (from pandas->mglearn) (2.8.1)\n",
            "Requirement already satisfied: pytz>=2017.2 in /usr/local/lib/python3.7/dist-packages (from pandas->mglearn) (2018.9)\n",
            "Requirement already satisfied: six in /usr/local/lib/python3.7/dist-packages (from cycler->mglearn) (1.15.0)\n",
            "Requirement already satisfied: pyparsing!=2.0.4,!=2.1.2,!=2.1.6,>=2.0.1 in /usr/local/lib/python3.7/dist-packages (from matplotlib->mglearn) (2.4.7)\n",
            "Requirement already satisfied: kiwisolver>=1.0.1 in /usr/local/lib/python3.7/dist-packages (from matplotlib->mglearn) (1.3.1)\n",
            "Requirement already satisfied: scipy>=0.17.0 in /usr/local/lib/python3.7/dist-packages (from scikit-learn->mglearn) (1.4.1)\n"
          ],
          "name": "stdout"
        }
      ]
    },
    {
      "cell_type": "markdown",
      "metadata": {
        "id": "_MQfB-NGc7W9"
      },
      "source": [
        "#The \"k\" in k-neighbors \n",
        "Represent the neighbors to pull in \n",
        "\n",
        "Variation in the nearest neighbor models determine distance and generates a prediction "
      ]
    },
    {
      "cell_type": "code",
      "metadata": {
        "colab": {
          "base_uri": "https://localhost:8080/",
          "height": 319
        },
        "id": "rjPH2s3Jb7GE",
        "outputId": "f6351286-ad9d-4387-946d-c74758ef3bc1"
      },
      "source": [
        "mglearn.plots.plot_knn_classification(n_neighbors = 1)"
      ],
      "execution_count": null,
      "outputs": [
        {
          "output_type": "stream",
          "text": [
            "/usr/local/lib/python3.7/dist-packages/sklearn/utils/deprecation.py:87: FutureWarning: Function make_blobs is deprecated; Please import make_blobs directly from scikit-learn\n",
            "  warnings.warn(msg, category=FutureWarning)\n"
          ],
          "name": "stderr"
        },
        {
          "output_type": "display_data",
          "data": {
            "image/png": "[encoded data removed]",
            "text/plain": [
              "<Figure size 432x288 with 1 Axes>"
            ]
          },
          "metadata": {
            "tags": [],
            "needs_background": "light"
          }
        }
      ]
    },
    {
      "cell_type": "markdown",
      "metadata": {
        "id": "US9mSm1jjhrv"
      },
      "source": [
        "Use this function to find the Euclidean distance which is a measure of a straight line between 2 points! \n",
        "\n",
        "From a pythagorean theorem point of view, the greater the value, the greater the difference! "
      ]
    },
    {
      "cell_type": "code",
      "metadata": {
        "id": "CjEzgqtFdNHy"
      },
      "source": [
        "def euclidean_distance(row1, row2): \n",
        "  distance = 0.0 \n",
        "  #make this a float \n",
        "\n",
        "  for dist in range(len(row1) - 1):\n",
        "    distance += (row1[dist] - row2[dist])**2\n",
        "\n",
        "    return sqrt(distance)\n",
        "\n",
        "#Measure the square difference of 2 points  "
      ],
      "execution_count": null,
      "outputs": []
    },
    {
      "cell_type": "markdown",
      "metadata": {
        "id": "sFklBnQjjche"
      },
      "source": [
        "Function to find the neighbors in a new observation. It will return the lowest k-distance"
      ]
    },
    {
      "cell_type": "code",
      "metadata": {
        "id": "AvUx9xfEdoNL"
      },
      "source": [
        "def get_neighbors(train, new_obs, k): \n",
        "  #Trying to locate similar neighbors or \"k neighbors\" \n",
        "  #Using euclidian distances \n",
        "  \"\"\" \n",
        "  Paramater: \n",
        "    train: a dataset (array)\n",
        "    new_observation: observation of which neighbors are found\n",
        "    k: k-neighbors (number of neighbors to be found (in int))\n",
        "  \"\"\"\n",
        "\n",
        "  distances = []\n",
        "  neighbors = []\n",
        "\n",
        "  if type(train) == pd.core.frame.DataFrame: \n",
        "    for dist, rows in train.iterrows():\n",
        "      length = euclidean_distance(new_obs, list(rows))\n",
        "      distances.append((dist, length))\n",
        "      distances.sort(key = lambda tup: tup[1])\n",
        "  else: \n",
        "    for dist, rows in enumerate(train):\n",
        "      length = euclidean_distance(new_obs, row)\n",
        "      distances.append((dist, length))\n",
        "      distances.sort(key = lambda tup: tup[1])\n",
        "  for i in range(k):\n",
        "    neighbors.append(distances[i])\n",
        "    \n",
        "    return neighbors"
      ],
      "execution_count": null,
      "outputs": []
    },
    {
      "cell_type": "markdown",
      "metadata": {
        "id": "7yjIQm-vj95X"
      },
      "source": [
        "Prediction from the nearest neighbor algorithm. Use a labeling system to achieve a higher accuracy over a voting systen"
      ]
    },
    {
      "cell_type": "code",
      "metadata": {
        "id": "O_iYwyI2e_aa"
      },
      "source": [
        "\"\"\" \n",
        "Predict the class from new observation from the provided training data \n",
        "\n",
        "The parameters: \n",
        "  train: training a pandas dataframe or array\n",
        "  new_observation: observation where the neighbors are found\n",
        "  k-neighbors: the number of neighbors to be found\n",
        "\"\"\"\n",
        "def predict_classification(train, new_obs, k): \n",
        "  neighbors = get_neighbors(train, new_obs, k) #compile a list of neighbors\n",
        "  n_index = neighbors[0][0] \n",
        "  #the index for the closest neighbors using splicing \n",
        "\n",
        "  if type(train) == pd.core.frame.DataFrame:\n",
        "    loc = train.columns[-1]\n",
        "    pred = train[loc][n_index] #the labels are on the last column of the dataframe\n",
        "  else:\n",
        "    pred = train[n_index][-1]\n",
        "  return pred \n",
        "  "
      ],
      "execution_count": null,
      "outputs": []
    },
    {
      "cell_type": "markdown",
      "metadata": {
        "id": "Nij1hg7RlIda"
      },
      "source": [
        "Accuracy is the number of correct over the total number. "
      ]
    },
    {
      "cell_type": "code",
      "metadata": {
        "id": "j4tdyXxDlPwj"
      },
      "source": [
        "def accuracy(x, y):\n",
        "  correct = 0\n",
        "  for i in range(len(x)):\n",
        "    if type(x) == pd.core.series.Series:\n",
        "      if x.iloc[i] == y[i]:\n",
        "        correct += 1\n",
        "    else: \n",
        "      if x[i] == y[i]:\n",
        "        correct += 1\n",
        "    return correct / float(len(x))\n"
      ],
      "execution_count": null,
      "outputs": []
    },
    {
      "cell_type": "code",
      "metadata": {
        "id": "-XC6OeitlsH1"
      },
      "source": [
        "from sklearn.model_selection import train_test_split \n",
        "cols = [\"sepal_len\", \"sepal_wid\", \"petal_len\", \"petal_wid\", \"class\"]\n",
        "url = \"https://archive.ics.uci.edu/ml/machine-learning-databases/iris/iris.data\"\n",
        "\n",
        "df = pd.read_csv(url, names = cols)\n",
        "names = []\n",
        "for x in df[\"class\"]:\n",
        "    x = x.replace(\"Iris-\", \"\")\n",
        "    names.append(x)\n",
        "\n",
        "df[\"class\"] = names\n",
        "labels = []\n",
        "\n",
        "for x in df[\"class\"]:\n",
        "  x = x.replace(\"versicolor\",\"0\")\n",
        "  x = x.replace(\"virginica\",\"1\")\n",
        "  x = x.replace(\"setosa\",\"2\")\n",
        "  x = int(x)\n",
        "  labels.append(x)\n",
        "    \n",
        "df[\"class\"] = labels"
      ],
      "execution_count": null,
      "outputs": []
    },
    {
      "cell_type": "code",
      "metadata": {
        "id": "f9XWOxJkmoO4"
      },
      "source": [
        "train, test = train_test_split(df, train_size=0.70, test_size=0.30, random_state=5)\n",
        "\n",
        "target = \"class\"\n",
        "X_test = test.drop(target, axis=1)\n",
        "y_test = test[target]\n",
        "# Generate Predictions\n",
        "predictions = []"
      ],
      "execution_count": null,
      "outputs": []
    },
    {
      "cell_type": "markdown",
      "metadata": {
        "id": "fei4ygYooUOp"
      },
      "source": [
        "KNN Class in OOP"
      ]
    },
    {
      "cell_type": "code",
      "metadata": {
        "id": "p4NFDcvCoT_N"
      },
      "source": [
        "class KNearestNeighbor:\n",
        "    \n",
        "    def __init__(self, n_neighbors):\n",
        "        self.n_neighbors = n_neighbors\n",
        "        self.train = None\n",
        "    \n",
        "    def __euclidean_distance(self, row1, row2):\n",
        "        \"\"\"\n",
        "        The square root of the sum of the squared differences between two vectors.\n",
        "        The smaller the value, the more similar two records will be.\n",
        "        Value of 0 indicates no difference.\n",
        "        \n",
        "        euclidian distance = sqrt(sum i to N (x1_i - x2_i)^2)\n",
        "        \"\"\"\n",
        "        # 0.0 so that distance will float\n",
        "        distance = 0.0\n",
        "\n",
        "        # loop for columns\n",
        "        for i in range(len(row1) - 1):\n",
        "            # squared difference between the two vectors\n",
        "            distance += (row1[i] - row2[i])**2\n",
        "\n",
        "        return sqrt(distance)\n",
        "    \n",
        "    \n",
        "    def fit(self, train):\n",
        "        \"\"\"Fits model to training data\"\"\"\n",
        "        self.train = train\n",
        "        \n",
        "    def __get_neighbors(self, train, new_obs, k):\n",
        "        \"\"\"\n",
        "        Locates most similar neighbors via euclidian distance.\n",
        "\n",
        "        Params: \n",
        "\n",
        "            train: a dataset\n",
        "\n",
        "            new_obs: a new observation; observation for which neighbors are to be found\n",
        "\n",
        "            k: k-neighbors; the number of neighbors to be found (int)\n",
        "        \"\"\"\n",
        "\n",
        "        distances = []\n",
        "        neighbors = []\n",
        "        \n",
        "        # Rules for whether or not train is a pandas.DataFrame\n",
        "        if type(train) == pd.core.frame.DataFrame:\n",
        "            \n",
        "            for i,row in train.iterrows():\n",
        "                # calculate distance\n",
        "                d = self.__euclidean_distance(new_obs, list(row))\n",
        "\n",
        "                # fill distances list with tuples of row index and distance\n",
        "                distances.append((i, d))\n",
        "\n",
        "                # sort distances by second value in tuple\n",
        "                distances.sort(key=lambda tup: tup[1])\n",
        "        else:\n",
        "            \n",
        "            for i,row in enumerate(train):\n",
        "                # calculate distance\n",
        "                d = self.__euclidean_distance(new_obs, row)\n",
        "\n",
        "                # fill distances list with tuples of row index and distance\n",
        "                distances.append((i, d))\n",
        "\n",
        "                # sort distances by second value in tuple\n",
        "                distances.sort(key=lambda tup: tup[1])\n",
        "\n",
        "        for i in range(k):\n",
        "            # Grabs k-records from distances list\n",
        "            neighbors.append(distances[i])\n",
        "\n",
        "        return neighbors\n",
        "    \n",
        "    \n",
        "    def predict(self, train, new_obs):\n",
        "        \"\"\"\n",
        "        Predicts a class label on a new observation from provided training data.\n",
        "\n",
        "        Params: \n",
        "\n",
        "            new_obs: a new observation; observation for which neighbors are to be found\n",
        "\n",
        "            k: k-neighbors; the number of neighbors to be found (int)\n",
        "        \"\"\"\n",
        "        self.train = train #> for some reason, defining the model again with passing\n",
        "                           #> in train with method call brought accuracy up to 95%,\n",
        "                           #> whereas without this, accuracy was 31%. Not clear why \n",
        "                           #> this is the case since self.train is already defined in\n",
        "                           #> the `model.fit()` call ...\n",
        "        \n",
        "        # Compile list of neighbors\n",
        "        neighbors = self.__get_neighbors(self.train, new_obs, self.n_neighbors)\n",
        "        \n",
        "        # Grab index of the closest neighbor\n",
        "        n_index = neighbors[0][0]\n",
        "        \n",
        "        # Add rules for if train is a pandas.DataFrame\n",
        "        if type(self.train) == pd.core.frame.DataFrame:\n",
        "            # Assumes labels are in last column of dataframe\n",
        "            loc = self.train.columns[-1]\n",
        "            pred = self.train[loc][n_index]\n",
        "        else:\n",
        "            # Prediction is the label from train record at n_index location. Assumes label\n",
        "            # is at end of record.\n",
        "            pred = self.train[n_index][-1]\n",
        "\n",
        "        return pred\n",
        "    \n",
        "    def score(self, x, y):\n",
        "        \"\"\"\n",
        "        Calculates accuracy of predictions (on classification problems).\n",
        "\n",
        "        Params:\n",
        "\n",
        "            x: actual, or correct labels\n",
        "\n",
        "            y: predicated labels\n",
        "        \"\"\"\n",
        "\n",
        "        correct = 0\n",
        "\n",
        "        for i in range(len(x)):\n",
        "            # Rules for if `x` is a pandas.Series\n",
        "            if type(x) == pd.core.series.Series:\n",
        "                if x.iloc[i] == y[i]:\n",
        "                    correct += 1\n",
        "\n",
        "            else:\n",
        "                if x[i] == y[i]:\n",
        "                    correct += 1\n",
        "\n",
        "        return correct / float(len(x))"
      ],
      "execution_count": null,
      "outputs": []
    },
    {
      "cell_type": "code",
      "metadata": {
        "colab": {
          "base_uri": "https://localhost:8080/"
        },
        "id": "rAZPhGk8mwIq",
        "outputId": "64e0eeb4-3749-422c-beb6-c29d3dbffc6a"
      },
      "source": [
        "nn = KNearestNeighbor(n_neighbors=3)\n",
        "predictions = []\n",
        "for _, obs in X_test.iterrows():\n",
        "    pred = nn.predict(train, list(obs))\n",
        "    predictions.append(pred)\n",
        "\n",
        "print(f\"Iris KNearestNeighbors Accuracy: {accuracy(y_test, predictions):.2f}\")"
      ],
      "execution_count": null,
      "outputs": [
        {
          "output_type": "stream",
          "text": [
            "Iris KNearestNeighbors Accuracy: 0.02\n"
          ],
          "name": "stdout"
        }
      ]
    },
    {
      "cell_type": "markdown",
      "metadata": {
        "id": "PKOe3aDRohUm"
      },
      "source": [
        "Comparing the built KNN Algorithm to the built in algorithm!\n"
      ]
    },
    {
      "cell_type": "code",
      "metadata": {
        "colab": {
          "base_uri": "https://localhost:8080/"
        },
        "id": "1kWLS8sGofw8",
        "outputId": "206dc79c-b328-4594-99cc-f79c7c8c004c"
      },
      "source": [
        "from sklearn.neighbors import KNeighborsClassifier\n",
        "X_train = train.drop(target, axis=1)\n",
        "y_train = train[target]\n",
        "scitkit_nn = KNeighborsClassifier(n_neighbors=3)\n",
        "scitkit_nn.fit(X_train, y_train)\n",
        "scitkit_preds = scitkit_nn.predict(X_test)\n",
        "\n",
        "print(f\"Scikit-learn KNeighborsClassifier on Iris Accuracy: {scitkit_nn.score(X_test, y_test):.2f}\")"
      ],
      "execution_count": null,
      "outputs": [
        {
          "output_type": "stream",
          "text": [
            "Scikit-learn KNeighborsClassifier on Iris Accuracy: 0.96\n"
          ],
          "name": "stdout"
        }
      ]
    },
    {
      "cell_type": "markdown",
      "metadata": {
        "id": "t9A1PxavpIIS"
      },
      "source": [
        "As seen here, the Scikit-Learn preinstalled KNeighbors Classifier is so much better than the one built here! "
      ]
    },
    {
      "cell_type": "code",
      "metadata": {
        "id": "R-l0U7CvobvH"
      },
      "source": [
        "#Breast Cancer Data\n",
        "from sklearn.model_selection import train_test_split \n",
        "cancer_cols = [\"Class\", \"Age\", \"Menopause\", \"Tumor-size\", \"inv-nodes\", \"node-caps\", \"deg-malig\", \"breast\", \"breast-quad\", \"irradiat\"]\n",
        "cancer_url = \"https://archive.ics.uci.edu/ml/machine-learning-databases/breast-cancer/breast-cancer.data\"\n",
        "\n",
        "cancer_df = pd.read_csv(cancer_url, names = cancer_cols)\n",
        "names = []\n",
        "\n",
        "for x in cancer_df[\"Class\"]:\n",
        "    x = x.replace(\"-events\", \"\")\n",
        "    names.append(x)\n",
        "\n",
        "cancer_df[\"Class\"] = names\n",
        "labels = []\n",
        "\n",
        "for x in cancer_df[\"Class\"]:\n",
        "  x = x.replace(\"no-recurrrence\",\"0\")\n",
        "  x = x.replace(\"recurrence\",\"1\")\n",
        "  labels.append(x)\n",
        "    \n",
        "cancer_df[\"Class\"] = labels\n",
        "\n",
        "cancer_train, cancer_test = train_test_split(cancer_df, train_size=0.70, test_size=0.30, random_state=5)\n",
        "\n",
        "target = \"Class\"\n",
        "X_test = cancer_test.drop(target, axis=1)\n",
        "y_test = cancer_test[target]\n",
        "# Generate Predictions\n",
        "predictions = []"
      ],
      "execution_count": null,
      "outputs": []
    },
    {
      "cell_type": "code",
      "metadata": {
        "colab": {
          "base_uri": "https://localhost:8080/",
          "height": 375
        },
        "id": "6krTGYcjocE-",
        "outputId": "c13b8c86-0c59-4f06-ff20-abe631a72e73"
      },
      "source": [
        "nn = KNearestNeighbor(n_neighbors=3)\n",
        "predictions = []\n",
        "for _, obs in X_test.iterrows():\n",
        "    pred = nn.predict(cancer_train, list(obs))\n",
        "    predictions.append(pred)\n",
        "\n",
        "print(f\"Cancer KNearestNeighbors Accuracy: {accuracy(y_test, predictions):.2f}\")"
      ],
      "execution_count": null,
      "outputs": [
        {
          "output_type": "error",
          "ename": "TypeError",
          "evalue": "ignored",
          "traceback": [
            "\u001b[0;31m---------------------------------------------------------------------------\u001b[0m",
            "\u001b[0;31mTypeError\u001b[0m                                 Traceback (most recent call last)",
            "\u001b[0;32m<ipython-input-182-30e8cb41abeb>\u001b[0m in \u001b[0;36m<module>\u001b[0;34m()\u001b[0m\n\u001b[1;32m      2\u001b[0m \u001b[0mpredictions\u001b[0m \u001b[0;34m=\u001b[0m \u001b[0;34m[\u001b[0m\u001b[0;34m]\u001b[0m\u001b[0;34m\u001b[0m\u001b[0;34m\u001b[0m\u001b[0m\n\u001b[1;32m      3\u001b[0m \u001b[0;32mfor\u001b[0m \u001b[0m_\u001b[0m\u001b[0;34m,\u001b[0m \u001b[0mobs\u001b[0m \u001b[0;32min\u001b[0m \u001b[0mX_test\u001b[0m\u001b[0;34m.\u001b[0m\u001b[0miterrows\u001b[0m\u001b[0;34m(\u001b[0m\u001b[0;34m)\u001b[0m\u001b[0;34m:\u001b[0m\u001b[0;34m\u001b[0m\u001b[0;34m\u001b[0m\u001b[0m\n\u001b[0;32m----> 4\u001b[0;31m     \u001b[0mpred\u001b[0m \u001b[0;34m=\u001b[0m \u001b[0mnn\u001b[0m\u001b[0;34m.\u001b[0m\u001b[0mpredict\u001b[0m\u001b[0;34m(\u001b[0m\u001b[0mcancer_train\u001b[0m\u001b[0;34m,\u001b[0m \u001b[0mlist\u001b[0m\u001b[0;34m(\u001b[0m\u001b[0mobs\u001b[0m\u001b[0;34m)\u001b[0m\u001b[0;34m)\u001b[0m\u001b[0;34m\u001b[0m\u001b[0;34m\u001b[0m\u001b[0m\n\u001b[0m\u001b[1;32m      5\u001b[0m     \u001b[0mpredictions\u001b[0m\u001b[0;34m.\u001b[0m\u001b[0mappend\u001b[0m\u001b[0;34m(\u001b[0m\u001b[0mpred\u001b[0m\u001b[0;34m)\u001b[0m\u001b[0;34m\u001b[0m\u001b[0;34m\u001b[0m\u001b[0m\n\u001b[1;32m      6\u001b[0m \u001b[0;34m\u001b[0m\u001b[0m\n",
            "\u001b[0;32m<ipython-input-178-7aa60cda3554>\u001b[0m in \u001b[0;36mpredict\u001b[0;34m(self, train, new_obs)\u001b[0m\n\u001b[1;32m     92\u001b[0m \u001b[0;34m\u001b[0m\u001b[0m\n\u001b[1;32m     93\u001b[0m         \u001b[0;31m# Compile list of neighbors\u001b[0m\u001b[0;34m\u001b[0m\u001b[0;34m\u001b[0m\u001b[0;34m\u001b[0m\u001b[0m\n\u001b[0;32m---> 94\u001b[0;31m         \u001b[0mneighbors\u001b[0m \u001b[0;34m=\u001b[0m \u001b[0mself\u001b[0m\u001b[0;34m.\u001b[0m\u001b[0m__get_neighbors\u001b[0m\u001b[0;34m(\u001b[0m\u001b[0mself\u001b[0m\u001b[0;34m.\u001b[0m\u001b[0mtrain\u001b[0m\u001b[0;34m,\u001b[0m \u001b[0mnew_obs\u001b[0m\u001b[0;34m,\u001b[0m \u001b[0mself\u001b[0m\u001b[0;34m.\u001b[0m\u001b[0mn_neighbors\u001b[0m\u001b[0;34m)\u001b[0m\u001b[0;34m\u001b[0m\u001b[0;34m\u001b[0m\u001b[0m\n\u001b[0m\u001b[1;32m     95\u001b[0m \u001b[0;34m\u001b[0m\u001b[0m\n\u001b[1;32m     96\u001b[0m         \u001b[0;31m# Grab index of the closest neighbor\u001b[0m\u001b[0;34m\u001b[0m\u001b[0;34m\u001b[0m\u001b[0;34m\u001b[0m\u001b[0m\n",
            "\u001b[0;32m<ipython-input-178-7aa60cda3554>\u001b[0m in \u001b[0;36m__get_neighbors\u001b[0;34m(self, train, new_obs, k)\u001b[0m\n\u001b[1;32m     49\u001b[0m             \u001b[0;32mfor\u001b[0m \u001b[0mi\u001b[0m\u001b[0;34m,\u001b[0m\u001b[0mrow\u001b[0m \u001b[0;32min\u001b[0m \u001b[0mtrain\u001b[0m\u001b[0;34m.\u001b[0m\u001b[0miterrows\u001b[0m\u001b[0;34m(\u001b[0m\u001b[0;34m)\u001b[0m\u001b[0;34m:\u001b[0m\u001b[0;34m\u001b[0m\u001b[0;34m\u001b[0m\u001b[0m\n\u001b[1;32m     50\u001b[0m                 \u001b[0;31m# calculate distance\u001b[0m\u001b[0;34m\u001b[0m\u001b[0;34m\u001b[0m\u001b[0;34m\u001b[0m\u001b[0m\n\u001b[0;32m---> 51\u001b[0;31m                 \u001b[0md\u001b[0m \u001b[0;34m=\u001b[0m \u001b[0mself\u001b[0m\u001b[0;34m.\u001b[0m\u001b[0m__euclidean_distance\u001b[0m\u001b[0;34m(\u001b[0m\u001b[0mnew_obs\u001b[0m\u001b[0;34m,\u001b[0m \u001b[0mlist\u001b[0m\u001b[0;34m(\u001b[0m\u001b[0mrow\u001b[0m\u001b[0;34m)\u001b[0m\u001b[0;34m)\u001b[0m\u001b[0;34m\u001b[0m\u001b[0;34m\u001b[0m\u001b[0m\n\u001b[0m\u001b[1;32m     52\u001b[0m \u001b[0;34m\u001b[0m\u001b[0m\n\u001b[1;32m     53\u001b[0m                 \u001b[0;31m# fill distances list with tuples of row index and distance\u001b[0m\u001b[0;34m\u001b[0m\u001b[0;34m\u001b[0m\u001b[0;34m\u001b[0m\u001b[0m\n",
            "\u001b[0;32m<ipython-input-178-7aa60cda3554>\u001b[0m in \u001b[0;36m__euclidean_distance\u001b[0;34m(self, row1, row2)\u001b[0m\n\u001b[1;32m     19\u001b[0m         \u001b[0;32mfor\u001b[0m \u001b[0mi\u001b[0m \u001b[0;32min\u001b[0m \u001b[0mrange\u001b[0m\u001b[0;34m(\u001b[0m\u001b[0mlen\u001b[0m\u001b[0;34m(\u001b[0m\u001b[0mrow1\u001b[0m\u001b[0;34m)\u001b[0m \u001b[0;34m-\u001b[0m \u001b[0;36m1\u001b[0m\u001b[0;34m)\u001b[0m\u001b[0;34m:\u001b[0m\u001b[0;34m\u001b[0m\u001b[0;34m\u001b[0m\u001b[0m\n\u001b[1;32m     20\u001b[0m             \u001b[0;31m# squared difference between the two vectors\u001b[0m\u001b[0;34m\u001b[0m\u001b[0;34m\u001b[0m\u001b[0;34m\u001b[0m\u001b[0m\n\u001b[0;32m---> 21\u001b[0;31m             \u001b[0mdistance\u001b[0m \u001b[0;34m+=\u001b[0m \u001b[0;34m(\u001b[0m\u001b[0mrow1\u001b[0m\u001b[0;34m[\u001b[0m\u001b[0mi\u001b[0m\u001b[0;34m]\u001b[0m \u001b[0;34m-\u001b[0m \u001b[0mrow2\u001b[0m\u001b[0;34m[\u001b[0m\u001b[0mi\u001b[0m\u001b[0;34m]\u001b[0m\u001b[0;34m)\u001b[0m\u001b[0;34m**\u001b[0m\u001b[0;36m2\u001b[0m\u001b[0;34m\u001b[0m\u001b[0;34m\u001b[0m\u001b[0m\n\u001b[0m\u001b[1;32m     22\u001b[0m \u001b[0;34m\u001b[0m\u001b[0m\n\u001b[1;32m     23\u001b[0m         \u001b[0;32mreturn\u001b[0m \u001b[0msqrt\u001b[0m\u001b[0;34m(\u001b[0m\u001b[0mdistance\u001b[0m\u001b[0;34m)\u001b[0m\u001b[0;34m\u001b[0m\u001b[0;34m\u001b[0m\u001b[0m\n",
            "\u001b[0;31mTypeError\u001b[0m: unsupported operand type(s) for -: 'str' and 'str'"
          ]
        }
      ]
    },
    {
      "cell_type": "markdown",
      "metadata": {
        "id": "z0oRG_Buokun"
      },
      "source": [
        "#Preprocessing is important! \n",
        "The error here was that the dataset was not preproccessed. It does not make sense to find Euclidean distance on strings and not floats!\n",
        "\n",
        "So download the Wisconsin Breast cancer data and preprocess it on local library!\n",
        "\n",
        "\"https://archive.ics.uci.edu/ml/machine-learning-databases/breast-cancer-wisconsin/breast-cancer-wisconsin.data\"\n"
      ]
    },
    {
      "cell_type": "code",
      "metadata": {
        "colab": {
          "base_uri": "https://localhost:8080/"
        },
        "id": "2UUVvtxRo5Mp",
        "outputId": "dc990436-3da8-47fd-df05-def614857f9b"
      },
      "source": [
        "drive.mount('/content/drive/', force_remount = True)\n",
        "os.chdir(\"/content/drive/My Drive/Final Project_Data/\")"
      ],
      "execution_count": null,
      "outputs": [
        {
          "output_type": "stream",
          "text": [
            "Mounted at /content/drive/\n"
          ],
          "name": "stdout"
        }
      ]
    },
    {
      "cell_type": "code",
      "metadata": {
        "id": "Yz190fP_IuH9",
        "colab": {
          "base_uri": "https://localhost:8080/",
          "height": 224
        },
        "outputId": "e0f5a034-db44-4f74-a022-a592520af64f"
      },
      "source": [
        "matplotlib.style.use('ggplot')\n",
        "df=pd.read_csv('wdbc.data', names=['ID','Diagnosis','Radius','Texture','Perimeter','Area','Smoothness',\n",
        "                                   'Compactness','Concavity','Concave_point','Symmetry','Fractal_dimensions',\n",
        "                                   'RadiusSE','TextureSE','PerimeterSE','AreaSE','SmoothnessSE',\n",
        "                                   'CompactnessSE','ConcavitySE','Concave_pointSE','SymmetrySE','Fractal_dimensionsSE',\n",
        "                                   'RadiusW','TextureW','PreimeterW','AreaW','SmoothnessW',\n",
        "                                   'CompactnessW','ConcavityW','Concave_pointW','SymmetryW','Fractal_dimensionsW'],engine='c')\n",
        "df.head()\n"
      ],
      "execution_count": null,
      "outputs": [
        {
          "output_type": "execute_result",
          "data": {
            "text/html": [
              "<div>\n",
              "<style scoped>\n",
              "    .dataframe tbody tr th:only-of-type {\n",
              "        vertical-align: middle;\n",
              "    }\n",
              "\n",
              "    .dataframe tbody tr th {\n",
              "        vertical-align: top;\n",
              "    }\n",
              "\n",
              "    .dataframe thead th {\n",
              "        text-align: right;\n",
              "    }\n",
              "</style>\n",
              "<table border=\"1\" class=\"dataframe\">\n",
              "  <thead>\n",
              "    <tr style=\"text-align: right;\">\n",
              "      <th></th>\n",
              "      <th>ID</th>\n",
              "      <th>Diagnosis</th>\n",
              "      <th>Radius</th>\n",
              "      <th>Texture</th>\n",
              "      <th>Perimeter</th>\n",
              "      <th>Area</th>\n",
              "      <th>Smoothness</th>\n",
              "      <th>Compactness</th>\n",
              "      <th>Concavity</th>\n",
              "      <th>Concave_point</th>\n",
              "      <th>Symmetry</th>\n",
              "      <th>Fractal_dimensions</th>\n",
              "      <th>RadiusSE</th>\n",
              "      <th>TextureSE</th>\n",
              "      <th>PerimeterSE</th>\n",
              "      <th>AreaSE</th>\n",
              "      <th>SmoothnessSE</th>\n",
              "      <th>CompactnessSE</th>\n",
              "      <th>ConcavitySE</th>\n",
              "      <th>Concave_pointSE</th>\n",
              "      <th>SymmetrySE</th>\n",
              "      <th>Fractal_dimensionsSE</th>\n",
              "      <th>RadiusW</th>\n",
              "      <th>TextureW</th>\n",
              "      <th>PreimeterW</th>\n",
              "      <th>AreaW</th>\n",
              "      <th>SmoothnessW</th>\n",
              "      <th>CompactnessW</th>\n",
              "      <th>ConcavityW</th>\n",
              "      <th>Concave_pointW</th>\n",
              "      <th>SymmetryW</th>\n",
              "      <th>Fractal_dimensionsW</th>\n",
              "    </tr>\n",
              "  </thead>\n",
              "  <tbody>\n",
              "    <tr>\n",
              "      <th>0</th>\n",
              "      <td>842302</td>\n",
              "      <td>M</td>\n",
              "      <td>17.99</td>\n",
              "      <td>10.38</td>\n",
              "      <td>122.80</td>\n",
              "      <td>1001.0</td>\n",
              "      <td>0.11840</td>\n",
              "      <td>0.27760</td>\n",
              "      <td>0.3001</td>\n",
              "      <td>0.14710</td>\n",
              "      <td>0.2419</td>\n",
              "      <td>0.07871</td>\n",
              "      <td>1.0950</td>\n",
              "      <td>0.9053</td>\n",
              "      <td>8.589</td>\n",
              "      <td>153.40</td>\n",
              "      <td>0.006399</td>\n",
              "      <td>0.04904</td>\n",
              "      <td>0.05373</td>\n",
              "      <td>0.01587</td>\n",
              "      <td>0.03003</td>\n",
              "      <td>0.006193</td>\n",
              "      <td>25.38</td>\n",
              "      <td>17.33</td>\n",
              "      <td>184.60</td>\n",
              "      <td>2019.0</td>\n",
              "      <td>0.1622</td>\n",
              "      <td>0.6656</td>\n",
              "      <td>0.7119</td>\n",
              "      <td>0.2654</td>\n",
              "      <td>0.4601</td>\n",
              "      <td>0.11890</td>\n",
              "    </tr>\n",
              "    <tr>\n",
              "      <th>1</th>\n",
              "      <td>842517</td>\n",
              "      <td>M</td>\n",
              "      <td>20.57</td>\n",
              "      <td>17.77</td>\n",
              "      <td>132.90</td>\n",
              "      <td>1326.0</td>\n",
              "      <td>0.08474</td>\n",
              "      <td>0.07864</td>\n",
              "      <td>0.0869</td>\n",
              "      <td>0.07017</td>\n",
              "      <td>0.1812</td>\n",
              "      <td>0.05667</td>\n",
              "      <td>0.5435</td>\n",
              "      <td>0.7339</td>\n",
              "      <td>3.398</td>\n",
              "      <td>74.08</td>\n",
              "      <td>0.005225</td>\n",
              "      <td>0.01308</td>\n",
              "      <td>0.01860</td>\n",
              "      <td>0.01340</td>\n",
              "      <td>0.01389</td>\n",
              "      <td>0.003532</td>\n",
              "      <td>24.99</td>\n",
              "      <td>23.41</td>\n",
              "      <td>158.80</td>\n",
              "      <td>1956.0</td>\n",
              "      <td>0.1238</td>\n",
              "      <td>0.1866</td>\n",
              "      <td>0.2416</td>\n",
              "      <td>0.1860</td>\n",
              "      <td>0.2750</td>\n",
              "      <td>0.08902</td>\n",
              "    </tr>\n",
              "    <tr>\n",
              "      <th>2</th>\n",
              "      <td>84300903</td>\n",
              "      <td>M</td>\n",
              "      <td>19.69</td>\n",
              "      <td>21.25</td>\n",
              "      <td>130.00</td>\n",
              "      <td>1203.0</td>\n",
              "      <td>0.10960</td>\n",
              "      <td>0.15990</td>\n",
              "      <td>0.1974</td>\n",
              "      <td>0.12790</td>\n",
              "      <td>0.2069</td>\n",
              "      <td>0.05999</td>\n",
              "      <td>0.7456</td>\n",
              "      <td>0.7869</td>\n",
              "      <td>4.585</td>\n",
              "      <td>94.03</td>\n",
              "      <td>0.006150</td>\n",
              "      <td>0.04006</td>\n",
              "      <td>0.03832</td>\n",
              "      <td>0.02058</td>\n",
              "      <td>0.02250</td>\n",
              "      <td>0.004571</td>\n",
              "      <td>23.57</td>\n",
              "      <td>25.53</td>\n",
              "      <td>152.50</td>\n",
              "      <td>1709.0</td>\n",
              "      <td>0.1444</td>\n",
              "      <td>0.4245</td>\n",
              "      <td>0.4504</td>\n",
              "      <td>0.2430</td>\n",
              "      <td>0.3613</td>\n",
              "      <td>0.08758</td>\n",
              "    </tr>\n",
              "    <tr>\n",
              "      <th>3</th>\n",
              "      <td>84348301</td>\n",
              "      <td>M</td>\n",
              "      <td>11.42</td>\n",
              "      <td>20.38</td>\n",
              "      <td>77.58</td>\n",
              "      <td>386.1</td>\n",
              "      <td>0.14250</td>\n",
              "      <td>0.28390</td>\n",
              "      <td>0.2414</td>\n",
              "      <td>0.10520</td>\n",
              "      <td>0.2597</td>\n",
              "      <td>0.09744</td>\n",
              "      <td>0.4956</td>\n",
              "      <td>1.1560</td>\n",
              "      <td>3.445</td>\n",
              "      <td>27.23</td>\n",
              "      <td>0.009110</td>\n",
              "      <td>0.07458</td>\n",
              "      <td>0.05661</td>\n",
              "      <td>0.01867</td>\n",
              "      <td>0.05963</td>\n",
              "      <td>0.009208</td>\n",
              "      <td>14.91</td>\n",
              "      <td>26.50</td>\n",
              "      <td>98.87</td>\n",
              "      <td>567.7</td>\n",
              "      <td>0.2098</td>\n",
              "      <td>0.8663</td>\n",
              "      <td>0.6869</td>\n",
              "      <td>0.2575</td>\n",
              "      <td>0.6638</td>\n",
              "      <td>0.17300</td>\n",
              "    </tr>\n",
              "    <tr>\n",
              "      <th>4</th>\n",
              "      <td>84358402</td>\n",
              "      <td>M</td>\n",
              "      <td>20.29</td>\n",
              "      <td>14.34</td>\n",
              "      <td>135.10</td>\n",
              "      <td>1297.0</td>\n",
              "      <td>0.10030</td>\n",
              "      <td>0.13280</td>\n",
              "      <td>0.1980</td>\n",
              "      <td>0.10430</td>\n",
              "      <td>0.1809</td>\n",
              "      <td>0.05883</td>\n",
              "      <td>0.7572</td>\n",
              "      <td>0.7813</td>\n",
              "      <td>5.438</td>\n",
              "      <td>94.44</td>\n",
              "      <td>0.011490</td>\n",
              "      <td>0.02461</td>\n",
              "      <td>0.05688</td>\n",
              "      <td>0.01885</td>\n",
              "      <td>0.01756</td>\n",
              "      <td>0.005115</td>\n",
              "      <td>22.54</td>\n",
              "      <td>16.67</td>\n",
              "      <td>152.20</td>\n",
              "      <td>1575.0</td>\n",
              "      <td>0.1374</td>\n",
              "      <td>0.2050</td>\n",
              "      <td>0.4000</td>\n",
              "      <td>0.1625</td>\n",
              "      <td>0.2364</td>\n",
              "      <td>0.07678</td>\n",
              "    </tr>\n",
              "  </tbody>\n",
              "</table>\n",
              "</div>"
            ],
            "text/plain": [
              "         ID Diagnosis  Radius  ...  Concave_pointW  SymmetryW  Fractal_dimensionsW\n",
              "0    842302         M   17.99  ...          0.2654     0.4601              0.11890\n",
              "1    842517         M   20.57  ...          0.1860     0.2750              0.08902\n",
              "2  84300903         M   19.69  ...          0.2430     0.3613              0.08758\n",
              "3  84348301         M   11.42  ...          0.2575     0.6638              0.17300\n",
              "4  84358402         M   20.29  ...          0.1625     0.2364              0.07678\n",
              "\n",
              "[5 rows x 32 columns]"
            ]
          },
          "metadata": {
            "tags": []
          },
          "execution_count": 183
        }
      ]
    },
    {
      "cell_type": "code",
      "metadata": {
        "colab": {
          "base_uri": "https://localhost:8080/"
        },
        "id": "gItXMUKgp1bp",
        "outputId": "d3cc4fd8-a139-4e97-bca4-d478f6457245"
      },
      "source": [
        "print(df.dtypes)"
      ],
      "execution_count": null,
      "outputs": [
        {
          "output_type": "stream",
          "text": [
            "ID                        int64\n",
            "Diagnosis                object\n",
            "Radius                  float64\n",
            "Texture                 float64\n",
            "Perimeter               float64\n",
            "Area                    float64\n",
            "Smoothness              float64\n",
            "Compactness             float64\n",
            "Concavity               float64\n",
            "Concave_point           float64\n",
            "Symmetry                float64\n",
            "Fractal_dimensions      float64\n",
            "RadiusSE                float64\n",
            "TextureSE               float64\n",
            "PerimeterSE             float64\n",
            "AreaSE                  float64\n",
            "SmoothnessSE            float64\n",
            "CompactnessSE           float64\n",
            "ConcavitySE             float64\n",
            "Concave_pointSE         float64\n",
            "SymmetrySE              float64\n",
            "Fractal_dimensionsSE    float64\n",
            "RadiusW                 float64\n",
            "TextureW                float64\n",
            "PreimeterW              float64\n",
            "AreaW                   float64\n",
            "SmoothnessW             float64\n",
            "CompactnessW            float64\n",
            "ConcavityW              float64\n",
            "Concave_pointW          float64\n",
            "SymmetryW               float64\n",
            "Fractal_dimensionsW     float64\n",
            "dtype: object\n"
          ],
          "name": "stdout"
        }
      ]
    },
    {
      "cell_type": "code",
      "metadata": {
        "colab": {
          "base_uri": "https://localhost:8080/",
          "height": 224
        },
        "id": "V7uVxrUOp6DB",
        "outputId": "be5462af-d62e-4bc6-9537-07e5c1ff0ed0"
      },
      "source": [
        "df.head()\n"
      ],
      "execution_count": null,
      "outputs": [
        {
          "output_type": "execute_result",
          "data": {
            "text/html": [
              "<div>\n",
              "<style scoped>\n",
              "    .dataframe tbody tr th:only-of-type {\n",
              "        vertical-align: middle;\n",
              "    }\n",
              "\n",
              "    .dataframe tbody tr th {\n",
              "        vertical-align: top;\n",
              "    }\n",
              "\n",
              "    .dataframe thead th {\n",
              "        text-align: right;\n",
              "    }\n",
              "</style>\n",
              "<table border=\"1\" class=\"dataframe\">\n",
              "  <thead>\n",
              "    <tr style=\"text-align: right;\">\n",
              "      <th></th>\n",
              "      <th>ID</th>\n",
              "      <th>Diagnosis</th>\n",
              "      <th>Radius</th>\n",
              "      <th>Texture</th>\n",
              "      <th>Perimeter</th>\n",
              "      <th>Area</th>\n",
              "      <th>Smoothness</th>\n",
              "      <th>Compactness</th>\n",
              "      <th>Concavity</th>\n",
              "      <th>Concave_point</th>\n",
              "      <th>Symmetry</th>\n",
              "      <th>Fractal_dimensions</th>\n",
              "      <th>RadiusSE</th>\n",
              "      <th>TextureSE</th>\n",
              "      <th>PerimeterSE</th>\n",
              "      <th>AreaSE</th>\n",
              "      <th>SmoothnessSE</th>\n",
              "      <th>CompactnessSE</th>\n",
              "      <th>ConcavitySE</th>\n",
              "      <th>Concave_pointSE</th>\n",
              "      <th>SymmetrySE</th>\n",
              "      <th>Fractal_dimensionsSE</th>\n",
              "      <th>RadiusW</th>\n",
              "      <th>TextureW</th>\n",
              "      <th>PreimeterW</th>\n",
              "      <th>AreaW</th>\n",
              "      <th>SmoothnessW</th>\n",
              "      <th>CompactnessW</th>\n",
              "      <th>ConcavityW</th>\n",
              "      <th>Concave_pointW</th>\n",
              "      <th>SymmetryW</th>\n",
              "      <th>Fractal_dimensionsW</th>\n",
              "    </tr>\n",
              "  </thead>\n",
              "  <tbody>\n",
              "    <tr>\n",
              "      <th>0</th>\n",
              "      <td>842302</td>\n",
              "      <td>M</td>\n",
              "      <td>17.99</td>\n",
              "      <td>10.38</td>\n",
              "      <td>122.80</td>\n",
              "      <td>1001.0</td>\n",
              "      <td>0.11840</td>\n",
              "      <td>0.27760</td>\n",
              "      <td>0.3001</td>\n",
              "      <td>0.14710</td>\n",
              "      <td>0.2419</td>\n",
              "      <td>0.07871</td>\n",
              "      <td>1.0950</td>\n",
              "      <td>0.9053</td>\n",
              "      <td>8.589</td>\n",
              "      <td>153.40</td>\n",
              "      <td>0.006399</td>\n",
              "      <td>0.04904</td>\n",
              "      <td>0.05373</td>\n",
              "      <td>0.01587</td>\n",
              "      <td>0.03003</td>\n",
              "      <td>0.006193</td>\n",
              "      <td>25.38</td>\n",
              "      <td>17.33</td>\n",
              "      <td>184.60</td>\n",
              "      <td>2019.0</td>\n",
              "      <td>0.1622</td>\n",
              "      <td>0.6656</td>\n",
              "      <td>0.7119</td>\n",
              "      <td>0.2654</td>\n",
              "      <td>0.4601</td>\n",
              "      <td>0.11890</td>\n",
              "    </tr>\n",
              "    <tr>\n",
              "      <th>1</th>\n",
              "      <td>842517</td>\n",
              "      <td>M</td>\n",
              "      <td>20.57</td>\n",
              "      <td>17.77</td>\n",
              "      <td>132.90</td>\n",
              "      <td>1326.0</td>\n",
              "      <td>0.08474</td>\n",
              "      <td>0.07864</td>\n",
              "      <td>0.0869</td>\n",
              "      <td>0.07017</td>\n",
              "      <td>0.1812</td>\n",
              "      <td>0.05667</td>\n",
              "      <td>0.5435</td>\n",
              "      <td>0.7339</td>\n",
              "      <td>3.398</td>\n",
              "      <td>74.08</td>\n",
              "      <td>0.005225</td>\n",
              "      <td>0.01308</td>\n",
              "      <td>0.01860</td>\n",
              "      <td>0.01340</td>\n",
              "      <td>0.01389</td>\n",
              "      <td>0.003532</td>\n",
              "      <td>24.99</td>\n",
              "      <td>23.41</td>\n",
              "      <td>158.80</td>\n",
              "      <td>1956.0</td>\n",
              "      <td>0.1238</td>\n",
              "      <td>0.1866</td>\n",
              "      <td>0.2416</td>\n",
              "      <td>0.1860</td>\n",
              "      <td>0.2750</td>\n",
              "      <td>0.08902</td>\n",
              "    </tr>\n",
              "    <tr>\n",
              "      <th>2</th>\n",
              "      <td>84300903</td>\n",
              "      <td>M</td>\n",
              "      <td>19.69</td>\n",
              "      <td>21.25</td>\n",
              "      <td>130.00</td>\n",
              "      <td>1203.0</td>\n",
              "      <td>0.10960</td>\n",
              "      <td>0.15990</td>\n",
              "      <td>0.1974</td>\n",
              "      <td>0.12790</td>\n",
              "      <td>0.2069</td>\n",
              "      <td>0.05999</td>\n",
              "      <td>0.7456</td>\n",
              "      <td>0.7869</td>\n",
              "      <td>4.585</td>\n",
              "      <td>94.03</td>\n",
              "      <td>0.006150</td>\n",
              "      <td>0.04006</td>\n",
              "      <td>0.03832</td>\n",
              "      <td>0.02058</td>\n",
              "      <td>0.02250</td>\n",
              "      <td>0.004571</td>\n",
              "      <td>23.57</td>\n",
              "      <td>25.53</td>\n",
              "      <td>152.50</td>\n",
              "      <td>1709.0</td>\n",
              "      <td>0.1444</td>\n",
              "      <td>0.4245</td>\n",
              "      <td>0.4504</td>\n",
              "      <td>0.2430</td>\n",
              "      <td>0.3613</td>\n",
              "      <td>0.08758</td>\n",
              "    </tr>\n",
              "    <tr>\n",
              "      <th>3</th>\n",
              "      <td>84348301</td>\n",
              "      <td>M</td>\n",
              "      <td>11.42</td>\n",
              "      <td>20.38</td>\n",
              "      <td>77.58</td>\n",
              "      <td>386.1</td>\n",
              "      <td>0.14250</td>\n",
              "      <td>0.28390</td>\n",
              "      <td>0.2414</td>\n",
              "      <td>0.10520</td>\n",
              "      <td>0.2597</td>\n",
              "      <td>0.09744</td>\n",
              "      <td>0.4956</td>\n",
              "      <td>1.1560</td>\n",
              "      <td>3.445</td>\n",
              "      <td>27.23</td>\n",
              "      <td>0.009110</td>\n",
              "      <td>0.07458</td>\n",
              "      <td>0.05661</td>\n",
              "      <td>0.01867</td>\n",
              "      <td>0.05963</td>\n",
              "      <td>0.009208</td>\n",
              "      <td>14.91</td>\n",
              "      <td>26.50</td>\n",
              "      <td>98.87</td>\n",
              "      <td>567.7</td>\n",
              "      <td>0.2098</td>\n",
              "      <td>0.8663</td>\n",
              "      <td>0.6869</td>\n",
              "      <td>0.2575</td>\n",
              "      <td>0.6638</td>\n",
              "      <td>0.17300</td>\n",
              "    </tr>\n",
              "    <tr>\n",
              "      <th>4</th>\n",
              "      <td>84358402</td>\n",
              "      <td>M</td>\n",
              "      <td>20.29</td>\n",
              "      <td>14.34</td>\n",
              "      <td>135.10</td>\n",
              "      <td>1297.0</td>\n",
              "      <td>0.10030</td>\n",
              "      <td>0.13280</td>\n",
              "      <td>0.1980</td>\n",
              "      <td>0.10430</td>\n",
              "      <td>0.1809</td>\n",
              "      <td>0.05883</td>\n",
              "      <td>0.7572</td>\n",
              "      <td>0.7813</td>\n",
              "      <td>5.438</td>\n",
              "      <td>94.44</td>\n",
              "      <td>0.011490</td>\n",
              "      <td>0.02461</td>\n",
              "      <td>0.05688</td>\n",
              "      <td>0.01885</td>\n",
              "      <td>0.01756</td>\n",
              "      <td>0.005115</td>\n",
              "      <td>22.54</td>\n",
              "      <td>16.67</td>\n",
              "      <td>152.20</td>\n",
              "      <td>1575.0</td>\n",
              "      <td>0.1374</td>\n",
              "      <td>0.2050</td>\n",
              "      <td>0.4000</td>\n",
              "      <td>0.1625</td>\n",
              "      <td>0.2364</td>\n",
              "      <td>0.07678</td>\n",
              "    </tr>\n",
              "  </tbody>\n",
              "</table>\n",
              "</div>"
            ],
            "text/plain": [
              "         ID Diagnosis  Radius  ...  Concave_pointW  SymmetryW  Fractal_dimensionsW\n",
              "0    842302         M   17.99  ...          0.2654     0.4601              0.11890\n",
              "1    842517         M   20.57  ...          0.1860     0.2750              0.08902\n",
              "2  84300903         M   19.69  ...          0.2430     0.3613              0.08758\n",
              "3  84348301         M   11.42  ...          0.2575     0.6638              0.17300\n",
              "4  84358402         M   20.29  ...          0.1625     0.2364              0.07678\n",
              "\n",
              "[5 rows x 32 columns]"
            ]
          },
          "metadata": {
            "tags": []
          },
          "execution_count": 185
        }
      ]
    },
    {
      "cell_type": "code",
      "metadata": {
        "colab": {
          "base_uri": "https://localhost:8080/",
          "height": 317
        },
        "id": "Fudd3Y9Sp8KA",
        "outputId": "4c571f9b-a226-4a67-9393-31457907c636"
      },
      "source": [
        "df.describe()"
      ],
      "execution_count": null,
      "outputs": [
        {
          "output_type": "execute_result",
          "data": {
            "text/html": [
              "<div>\n",
              "<style scoped>\n",
              "    .dataframe tbody tr th:only-of-type {\n",
              "        vertical-align: middle;\n",
              "    }\n",
              "\n",
              "    .dataframe tbody tr th {\n",
              "        vertical-align: top;\n",
              "    }\n",
              "\n",
              "    .dataframe thead th {\n",
              "        text-align: right;\n",
              "    }\n",
              "</style>\n",
              "<table border=\"1\" class=\"dataframe\">\n",
              "  <thead>\n",
              "    <tr style=\"text-align: right;\">\n",
              "      <th></th>\n",
              "      <th>ID</th>\n",
              "      <th>Radius</th>\n",
              "      <th>Texture</th>\n",
              "      <th>Perimeter</th>\n",
              "      <th>Area</th>\n",
              "      <th>Smoothness</th>\n",
              "      <th>Compactness</th>\n",
              "      <th>Concavity</th>\n",
              "      <th>Concave_point</th>\n",
              "      <th>Symmetry</th>\n",
              "      <th>Fractal_dimensions</th>\n",
              "      <th>RadiusSE</th>\n",
              "      <th>TextureSE</th>\n",
              "      <th>PerimeterSE</th>\n",
              "      <th>AreaSE</th>\n",
              "      <th>SmoothnessSE</th>\n",
              "      <th>CompactnessSE</th>\n",
              "      <th>ConcavitySE</th>\n",
              "      <th>Concave_pointSE</th>\n",
              "      <th>SymmetrySE</th>\n",
              "      <th>Fractal_dimensionsSE</th>\n",
              "      <th>RadiusW</th>\n",
              "      <th>TextureW</th>\n",
              "      <th>PreimeterW</th>\n",
              "      <th>AreaW</th>\n",
              "      <th>SmoothnessW</th>\n",
              "      <th>CompactnessW</th>\n",
              "      <th>ConcavityW</th>\n",
              "      <th>Concave_pointW</th>\n",
              "      <th>SymmetryW</th>\n",
              "      <th>Fractal_dimensionsW</th>\n",
              "    </tr>\n",
              "  </thead>\n",
              "  <tbody>\n",
              "    <tr>\n",
              "      <th>count</th>\n",
              "      <td>5.690000e+02</td>\n",
              "      <td>569.000000</td>\n",
              "      <td>569.000000</td>\n",
              "      <td>569.000000</td>\n",
              "      <td>569.000000</td>\n",
              "      <td>569.000000</td>\n",
              "      <td>569.000000</td>\n",
              "      <td>569.000000</td>\n",
              "      <td>569.000000</td>\n",
              "      <td>569.000000</td>\n",
              "      <td>569.000000</td>\n",
              "      <td>569.000000</td>\n",
              "      <td>569.000000</td>\n",
              "      <td>569.000000</td>\n",
              "      <td>569.000000</td>\n",
              "      <td>569.000000</td>\n",
              "      <td>569.000000</td>\n",
              "      <td>569.000000</td>\n",
              "      <td>569.000000</td>\n",
              "      <td>569.000000</td>\n",
              "      <td>569.000000</td>\n",
              "      <td>569.000000</td>\n",
              "      <td>569.000000</td>\n",
              "      <td>569.000000</td>\n",
              "      <td>569.000000</td>\n",
              "      <td>569.000000</td>\n",
              "      <td>569.000000</td>\n",
              "      <td>569.000000</td>\n",
              "      <td>569.000000</td>\n",
              "      <td>569.000000</td>\n",
              "      <td>569.000000</td>\n",
              "    </tr>\n",
              "    <tr>\n",
              "      <th>mean</th>\n",
              "      <td>3.037183e+07</td>\n",
              "      <td>14.127292</td>\n",
              "      <td>19.289649</td>\n",
              "      <td>91.969033</td>\n",
              "      <td>654.889104</td>\n",
              "      <td>0.096360</td>\n",
              "      <td>0.104341</td>\n",
              "      <td>0.088799</td>\n",
              "      <td>0.048919</td>\n",
              "      <td>0.181162</td>\n",
              "      <td>0.062798</td>\n",
              "      <td>0.405172</td>\n",
              "      <td>1.216853</td>\n",
              "      <td>2.866059</td>\n",
              "      <td>40.337079</td>\n",
              "      <td>0.007041</td>\n",
              "      <td>0.025478</td>\n",
              "      <td>0.031894</td>\n",
              "      <td>0.011796</td>\n",
              "      <td>0.020542</td>\n",
              "      <td>0.003795</td>\n",
              "      <td>16.269190</td>\n",
              "      <td>25.677223</td>\n",
              "      <td>107.261213</td>\n",
              "      <td>880.583128</td>\n",
              "      <td>0.132369</td>\n",
              "      <td>0.254265</td>\n",
              "      <td>0.272188</td>\n",
              "      <td>0.114606</td>\n",
              "      <td>0.290076</td>\n",
              "      <td>0.083946</td>\n",
              "    </tr>\n",
              "    <tr>\n",
              "      <th>std</th>\n",
              "      <td>1.250206e+08</td>\n",
              "      <td>3.524049</td>\n",
              "      <td>4.301036</td>\n",
              "      <td>24.298981</td>\n",
              "      <td>351.914129</td>\n",
              "      <td>0.014064</td>\n",
              "      <td>0.052813</td>\n",
              "      <td>0.079720</td>\n",
              "      <td>0.038803</td>\n",
              "      <td>0.027414</td>\n",
              "      <td>0.007060</td>\n",
              "      <td>0.277313</td>\n",
              "      <td>0.551648</td>\n",
              "      <td>2.021855</td>\n",
              "      <td>45.491006</td>\n",
              "      <td>0.003003</td>\n",
              "      <td>0.017908</td>\n",
              "      <td>0.030186</td>\n",
              "      <td>0.006170</td>\n",
              "      <td>0.008266</td>\n",
              "      <td>0.002646</td>\n",
              "      <td>4.833242</td>\n",
              "      <td>6.146258</td>\n",
              "      <td>33.602542</td>\n",
              "      <td>569.356993</td>\n",
              "      <td>0.022832</td>\n",
              "      <td>0.157336</td>\n",
              "      <td>0.208624</td>\n",
              "      <td>0.065732</td>\n",
              "      <td>0.061867</td>\n",
              "      <td>0.018061</td>\n",
              "    </tr>\n",
              "    <tr>\n",
              "      <th>min</th>\n",
              "      <td>8.670000e+03</td>\n",
              "      <td>6.981000</td>\n",
              "      <td>9.710000</td>\n",
              "      <td>43.790000</td>\n",
              "      <td>143.500000</td>\n",
              "      <td>0.052630</td>\n",
              "      <td>0.019380</td>\n",
              "      <td>0.000000</td>\n",
              "      <td>0.000000</td>\n",
              "      <td>0.106000</td>\n",
              "      <td>0.049960</td>\n",
              "      <td>0.111500</td>\n",
              "      <td>0.360200</td>\n",
              "      <td>0.757000</td>\n",
              "      <td>6.802000</td>\n",
              "      <td>0.001713</td>\n",
              "      <td>0.002252</td>\n",
              "      <td>0.000000</td>\n",
              "      <td>0.000000</td>\n",
              "      <td>0.007882</td>\n",
              "      <td>0.000895</td>\n",
              "      <td>7.930000</td>\n",
              "      <td>12.020000</td>\n",
              "      <td>50.410000</td>\n",
              "      <td>185.200000</td>\n",
              "      <td>0.071170</td>\n",
              "      <td>0.027290</td>\n",
              "      <td>0.000000</td>\n",
              "      <td>0.000000</td>\n",
              "      <td>0.156500</td>\n",
              "      <td>0.055040</td>\n",
              "    </tr>\n",
              "    <tr>\n",
              "      <th>25%</th>\n",
              "      <td>8.692180e+05</td>\n",
              "      <td>11.700000</td>\n",
              "      <td>16.170000</td>\n",
              "      <td>75.170000</td>\n",
              "      <td>420.300000</td>\n",
              "      <td>0.086370</td>\n",
              "      <td>0.064920</td>\n",
              "      <td>0.029560</td>\n",
              "      <td>0.020310</td>\n",
              "      <td>0.161900</td>\n",
              "      <td>0.057700</td>\n",
              "      <td>0.232400</td>\n",
              "      <td>0.833900</td>\n",
              "      <td>1.606000</td>\n",
              "      <td>17.850000</td>\n",
              "      <td>0.005169</td>\n",
              "      <td>0.013080</td>\n",
              "      <td>0.015090</td>\n",
              "      <td>0.007638</td>\n",
              "      <td>0.015160</td>\n",
              "      <td>0.002248</td>\n",
              "      <td>13.010000</td>\n",
              "      <td>21.080000</td>\n",
              "      <td>84.110000</td>\n",
              "      <td>515.300000</td>\n",
              "      <td>0.116600</td>\n",
              "      <td>0.147200</td>\n",
              "      <td>0.114500</td>\n",
              "      <td>0.064930</td>\n",
              "      <td>0.250400</td>\n",
              "      <td>0.071460</td>\n",
              "    </tr>\n",
              "    <tr>\n",
              "      <th>50%</th>\n",
              "      <td>9.060240e+05</td>\n",
              "      <td>13.370000</td>\n",
              "      <td>18.840000</td>\n",
              "      <td>86.240000</td>\n",
              "      <td>551.100000</td>\n",
              "      <td>0.095870</td>\n",
              "      <td>0.092630</td>\n",
              "      <td>0.061540</td>\n",
              "      <td>0.033500</td>\n",
              "      <td>0.179200</td>\n",
              "      <td>0.061540</td>\n",
              "      <td>0.324200</td>\n",
              "      <td>1.108000</td>\n",
              "      <td>2.287000</td>\n",
              "      <td>24.530000</td>\n",
              "      <td>0.006380</td>\n",
              "      <td>0.020450</td>\n",
              "      <td>0.025890</td>\n",
              "      <td>0.010930</td>\n",
              "      <td>0.018730</td>\n",
              "      <td>0.003187</td>\n",
              "      <td>14.970000</td>\n",
              "      <td>25.410000</td>\n",
              "      <td>97.660000</td>\n",
              "      <td>686.500000</td>\n",
              "      <td>0.131300</td>\n",
              "      <td>0.211900</td>\n",
              "      <td>0.226700</td>\n",
              "      <td>0.099930</td>\n",
              "      <td>0.282200</td>\n",
              "      <td>0.080040</td>\n",
              "    </tr>\n",
              "    <tr>\n",
              "      <th>75%</th>\n",
              "      <td>8.813129e+06</td>\n",
              "      <td>15.780000</td>\n",
              "      <td>21.800000</td>\n",
              "      <td>104.100000</td>\n",
              "      <td>782.700000</td>\n",
              "      <td>0.105300</td>\n",
              "      <td>0.130400</td>\n",
              "      <td>0.130700</td>\n",
              "      <td>0.074000</td>\n",
              "      <td>0.195700</td>\n",
              "      <td>0.066120</td>\n",
              "      <td>0.478900</td>\n",
              "      <td>1.474000</td>\n",
              "      <td>3.357000</td>\n",
              "      <td>45.190000</td>\n",
              "      <td>0.008146</td>\n",
              "      <td>0.032450</td>\n",
              "      <td>0.042050</td>\n",
              "      <td>0.014710</td>\n",
              "      <td>0.023480</td>\n",
              "      <td>0.004558</td>\n",
              "      <td>18.790000</td>\n",
              "      <td>29.720000</td>\n",
              "      <td>125.400000</td>\n",
              "      <td>1084.000000</td>\n",
              "      <td>0.146000</td>\n",
              "      <td>0.339100</td>\n",
              "      <td>0.382900</td>\n",
              "      <td>0.161400</td>\n",
              "      <td>0.317900</td>\n",
              "      <td>0.092080</td>\n",
              "    </tr>\n",
              "    <tr>\n",
              "      <th>max</th>\n",
              "      <td>9.113205e+08</td>\n",
              "      <td>28.110000</td>\n",
              "      <td>39.280000</td>\n",
              "      <td>188.500000</td>\n",
              "      <td>2501.000000</td>\n",
              "      <td>0.163400</td>\n",
              "      <td>0.345400</td>\n",
              "      <td>0.426800</td>\n",
              "      <td>0.201200</td>\n",
              "      <td>0.304000</td>\n",
              "      <td>0.097440</td>\n",
              "      <td>2.873000</td>\n",
              "      <td>4.885000</td>\n",
              "      <td>21.980000</td>\n",
              "      <td>542.200000</td>\n",
              "      <td>0.031130</td>\n",
              "      <td>0.135400</td>\n",
              "      <td>0.396000</td>\n",
              "      <td>0.052790</td>\n",
              "      <td>0.078950</td>\n",
              "      <td>0.029840</td>\n",
              "      <td>36.040000</td>\n",
              "      <td>49.540000</td>\n",
              "      <td>251.200000</td>\n",
              "      <td>4254.000000</td>\n",
              "      <td>0.222600</td>\n",
              "      <td>1.058000</td>\n",
              "      <td>1.252000</td>\n",
              "      <td>0.291000</td>\n",
              "      <td>0.663800</td>\n",
              "      <td>0.207500</td>\n",
              "    </tr>\n",
              "  </tbody>\n",
              "</table>\n",
              "</div>"
            ],
            "text/plain": [
              "                 ID      Radius  ...   SymmetryW  Fractal_dimensionsW\n",
              "count  5.690000e+02  569.000000  ...  569.000000           569.000000\n",
              "mean   3.037183e+07   14.127292  ...    0.290076             0.083946\n",
              "std    1.250206e+08    3.524049  ...    0.061867             0.018061\n",
              "min    8.670000e+03    6.981000  ...    0.156500             0.055040\n",
              "25%    8.692180e+05   11.700000  ...    0.250400             0.071460\n",
              "50%    9.060240e+05   13.370000  ...    0.282200             0.080040\n",
              "75%    8.813129e+06   15.780000  ...    0.317900             0.092080\n",
              "max    9.113205e+08   28.110000  ...    0.663800             0.207500\n",
              "\n",
              "[8 rows x 31 columns]"
            ]
          },
          "metadata": {
            "tags": []
          },
          "execution_count": 186
        }
      ]
    },
    {
      "cell_type": "code",
      "metadata": {
        "colab": {
          "base_uri": "https://localhost:8080/"
        },
        "id": "eP9iGwIwqCpB",
        "outputId": "c8deacc5-1996-4a07-a785-115a951e2be4"
      },
      "source": [
        "df.info()"
      ],
      "execution_count": null,
      "outputs": [
        {
          "output_type": "stream",
          "text": [
            "<class 'pandas.core.frame.DataFrame'>\n",
            "RangeIndex: 569 entries, 0 to 568\n",
            "Data columns (total 32 columns):\n",
            " #   Column                Non-Null Count  Dtype  \n",
            "---  ------                --------------  -----  \n",
            " 0   ID                    569 non-null    int64  \n",
            " 1   Diagnosis             569 non-null    object \n",
            " 2   Radius                569 non-null    float64\n",
            " 3   Texture               569 non-null    float64\n",
            " 4   Perimeter             569 non-null    float64\n",
            " 5   Area                  569 non-null    float64\n",
            " 6   Smoothness            569 non-null    float64\n",
            " 7   Compactness           569 non-null    float64\n",
            " 8   Concavity             569 non-null    float64\n",
            " 9   Concave_point         569 non-null    float64\n",
            " 10  Symmetry              569 non-null    float64\n",
            " 11  Fractal_dimensions    569 non-null    float64\n",
            " 12  RadiusSE              569 non-null    float64\n",
            " 13  TextureSE             569 non-null    float64\n",
            " 14  PerimeterSE           569 non-null    float64\n",
            " 15  AreaSE                569 non-null    float64\n",
            " 16  SmoothnessSE          569 non-null    float64\n",
            " 17  CompactnessSE         569 non-null    float64\n",
            " 18  ConcavitySE           569 non-null    float64\n",
            " 19  Concave_pointSE       569 non-null    float64\n",
            " 20  SymmetrySE            569 non-null    float64\n",
            " 21  Fractal_dimensionsSE  569 non-null    float64\n",
            " 22  RadiusW               569 non-null    float64\n",
            " 23  TextureW              569 non-null    float64\n",
            " 24  PreimeterW            569 non-null    float64\n",
            " 25  AreaW                 569 non-null    float64\n",
            " 26  SmoothnessW           569 non-null    float64\n",
            " 27  CompactnessW          569 non-null    float64\n",
            " 28  ConcavityW            569 non-null    float64\n",
            " 29  Concave_pointW        569 non-null    float64\n",
            " 30  SymmetryW             569 non-null    float64\n",
            " 31  Fractal_dimensionsW   569 non-null    float64\n",
            "dtypes: float64(30), int64(1), object(1)\n",
            "memory usage: 142.4+ KB\n"
          ],
          "name": "stdout"
        }
      ]
    },
    {
      "cell_type": "code",
      "metadata": {
        "colab": {
          "base_uri": "https://localhost:8080/"
        },
        "id": "7IGpIYOMqE1B",
        "outputId": "2a618e83-fc21-4dd8-c9b8-86d0c8c90793"
      },
      "source": [
        "print(df.shape)"
      ],
      "execution_count": null,
      "outputs": [
        {
          "output_type": "stream",
          "text": [
            "(569, 32)\n"
          ],
          "name": "stdout"
        }
      ]
    },
    {
      "cell_type": "markdown",
      "metadata": {
        "id": "HOiHzcAaqowx"
      },
      "source": [
        "Convert the strings to numbers to avoid another error."
      ]
    },
    {
      "cell_type": "code",
      "metadata": {
        "id": "b4SY2GJsqQb5"
      },
      "source": [
        "def diagnosis_value(diagnosis):\n",
        "    if diagnosis == 'M':\n",
        "        return 1\n",
        "    else:\n",
        "        return 0\n",
        "  \n",
        "df['Diagnosis'] = df['Diagnosis'].apply(diagnosis_value)"
      ],
      "execution_count": null,
      "outputs": []
    },
    {
      "cell_type": "markdown",
      "metadata": {
        "id": "m4srcMZSs6fa"
      },
      "source": [
        "#Normalize the data"
      ]
    },
    {
      "cell_type": "code",
      "metadata": {
        "colab": {
          "base_uri": "https://localhost:8080/"
        },
        "id": "lt8yglU9suZG",
        "outputId": "4d41f3aa-063c-4a0f-9803-a532c56278dc"
      },
      "source": [
        "X = preprocessing.StandardScaler().fit(X).transform(X.astype(float))\n",
        "X[0:5]"
      ],
      "execution_count": null,
      "outputs": [
        {
          "output_type": "execute_result",
          "data": {
            "text/plain": [
              "array([[ 1.29767572e+00,  1.09706398e+00, -2.07333501e+00,\n",
              "         1.26993369e+00,  9.84374905e-01,  1.56846633e+00,\n",
              "         3.28351467e+00,  2.65287398e+00,  2.53247522e+00,\n",
              "         2.21751501e+00,  2.25574689e+00,  2.48973393e+00,\n",
              "        -5.65265059e-01,  2.83303087e+00,  2.48757756e+00,\n",
              "        -2.14001647e-01,  1.31686157e+00,  7.24026158e-01,\n",
              "         6.60819941e-01,  1.14875667e+00,  9.07083081e-01,\n",
              "         1.88668963e+00, -1.35929347e+00,  2.30360062e+00,\n",
              "         2.00123749e+00,  1.30768627e+00,  2.61666502e+00,\n",
              "         2.10952635e+00,  2.29607613e+00,  2.75062224e+00,\n",
              "         1.93701461e+00],\n",
              "       [ 1.29767572e+00,  1.82982061e+00, -3.53632408e-01,\n",
              "         1.68595471e+00,  1.90870825e+00, -8.26962447e-01,\n",
              "        -4.87071673e-01, -2.38458552e-02,  5.48144156e-01,\n",
              "         1.39236330e-03, -8.68652457e-01,  4.99254601e-01,\n",
              "        -8.76243603e-01,  2.63326966e-01,  7.42401948e-01,\n",
              "        -6.05350847e-01, -6.92926270e-01, -4.40780058e-01,\n",
              "         2.60162067e-01, -8.05450380e-01, -9.94437403e-02,\n",
              "         1.80592744e+00, -3.69203222e-01,  1.53512599e+00,\n",
              "         1.89048899e+00, -3.75611957e-01, -4.30444219e-01,\n",
              "        -1.46748968e-01,  1.08708430e+00, -2.43889668e-01,\n",
              "         2.81189987e-01],\n",
              "       [ 1.29767572e+00,  1.57988811e+00,  4.56186952e-01,\n",
              "         1.56650313e+00,  1.55888363e+00,  9.42210440e-01,\n",
              "         1.05292554e+00,  1.36347845e+00,  2.03723076e+00,\n",
              "         9.39684817e-01, -3.98007910e-01,  1.22867595e+00,\n",
              "        -7.80083377e-01,  8.50928301e-01,  1.18133606e+00,\n",
              "        -2.97005012e-01,  8.14973504e-01,  2.13076435e-01,\n",
              "         1.42482747e+00,  2.37035535e-01,  2.93559404e-01,\n",
              "         1.51187025e+00, -2.39743838e-02,  1.34747521e+00,\n",
              "         1.45628455e+00,  5.27407405e-01,  1.08293217e+00,\n",
              "         8.54973944e-01,  1.95500035e+00,  1.15225500e+00,\n",
              "         2.01391209e-01],\n",
              "       [ 1.29767572e+00, -7.68909287e-01,  2.53732112e-01,\n",
              "        -5.92687167e-01, -7.64463792e-01,  3.28355348e+00,\n",
              "         3.40290899e+00,  1.91589718e+00,  1.45170736e+00,\n",
              "         2.86738293e+00,  4.91091929e+00,  3.26373441e-01,\n",
              "        -1.10409044e-01,  2.86593405e-01, -2.88378148e-01,\n",
              "         6.89701660e-01,  2.74428041e+00,  8.19518384e-01,\n",
              "         1.11500701e+00,  4.73268037e+00,  2.04751088e+00,\n",
              "        -2.81464464e-01,  1.33984094e-01, -2.49939304e-01,\n",
              "        -5.50021228e-01,  3.39427470e+00,  3.89339743e+00,\n",
              "         1.98958826e+00,  2.17578601e+00,  6.04604135e+00,\n",
              "         4.93501034e+00],\n",
              "       [ 1.29767572e+00,  1.75029663e+00, -1.15181643e+00,\n",
              "         1.77657315e+00,  1.82622928e+00,  2.80371830e-01,\n",
              "         5.39340452e-01,  1.37101143e+00,  1.42849277e+00,\n",
              "        -9.56046689e-03, -5.62449981e-01,  1.27054278e+00,\n",
              "        -7.90243702e-01,  1.27318941e+00,  1.19035676e+00,\n",
              "         1.48306716e+00, -4.85198799e-02,  8.28470780e-01,\n",
              "         1.14420474e+00, -3.61092272e-01,  4.99328134e-01,\n",
              "         1.29857524e+00, -1.46677038e+00,  1.33853946e+00,\n",
              "         1.22072425e+00,  2.20556166e-01, -3.13394511e-01,\n",
              "         6.13178758e-01,  7.29259257e-01, -8.68352984e-01,\n",
              "        -3.97099619e-01]])"
            ]
          },
          "metadata": {
            "tags": []
          },
          "execution_count": 190
        }
      ]
    },
    {
      "cell_type": "code",
      "metadata": {
        "colab": {
          "base_uri": "https://localhost:8080/",
          "height": 403
        },
        "id": "9NPoKBYdqagk",
        "outputId": "72b1ec37-3555-4295-bcd1-d2c3c9e9caa3"
      },
      "source": [
        "sns.lmplot(x = 'Radius', y = 'Texture', hue = 'Diagnosis', data = df)"
      ],
      "execution_count": null,
      "outputs": [
        {
          "output_type": "execute_result",
          "data": {
            "text/plain": [
              "<seaborn.axisgrid.FacetGrid at 0x7f803eb92050>"
            ]
          },
          "metadata": {
            "tags": []
          },
          "execution_count": 191
        },
        {
          "output_type": "display_data",
          "data": {
            "image/png": "[encoded data removed]",
            "text/plain": [
              "<Figure size 416.875x360 with 1 Axes>"
            ]
          },
          "metadata": {
            "tags": []
          }
        }
      ]
    },
    {
      "cell_type": "code",
      "metadata": {
        "id": "mnPljvawrHRj"
      },
      "source": [
        "X = np.array(df.iloc[:, 1:])\n",
        "y = np.array(df['Diagnosis'])"
      ],
      "execution_count": null,
      "outputs": []
    },
    {
      "cell_type": "code",
      "metadata": {
        "id": "2VGYg4rIrKKw"
      },
      "source": [
        "X_train, X_test, y_train, y_test = train_test_split(\n",
        "    X, y, test_size = 0.33, random_state = 42)"
      ],
      "execution_count": null,
      "outputs": []
    },
    {
      "cell_type": "code",
      "metadata": {
        "colab": {
          "base_uri": "https://localhost:8080/"
        },
        "id": "hExQlq9DrLta",
        "outputId": "8b2d3da9-0b8a-406e-a85a-bf0da54f3ec5"
      },
      "source": [
        "knn = KNeighborsClassifier(n_neighbors = 1)\n",
        "knn.fit(X_train, y_train)"
      ],
      "execution_count": null,
      "outputs": [
        {
          "output_type": "execute_result",
          "data": {
            "text/plain": [
              "KNeighborsClassifier(algorithm='auto', leaf_size=30, metric='minkowski',\n",
              "                     metric_params=None, n_jobs=None, n_neighbors=1, p=2,\n",
              "                     weights='uniform')"
            ]
          },
          "metadata": {
            "tags": []
          },
          "execution_count": 194
        }
      ]
    },
    {
      "cell_type": "code",
      "metadata": {
        "colab": {
          "base_uri": "https://localhost:8080/"
        },
        "id": "VPQwna6rrPJq",
        "outputId": "06e031e0-02eb-4e78-bba6-80e2f1bc2532"
      },
      "source": [
        "knn.score(X_test, y_test)"
      ],
      "execution_count": null,
      "outputs": [
        {
          "output_type": "execute_result",
          "data": {
            "text/plain": [
              "0.9308510638297872"
            ]
          },
          "metadata": {
            "tags": []
          },
          "execution_count": 195
        }
      ]
    },
    {
      "cell_type": "code",
      "metadata": {
        "colab": {
          "base_uri": "https://localhost:8080/"
        },
        "id": "DucejVCTrvZD",
        "outputId": "1a586297-f666-409e-eaf5-78d382e6e392"
      },
      "source": [
        "knn = KNeighborsClassifier(n_neighbors = 2)\n",
        "knn.fit(X_train, y_train)\n",
        "knn.score(X_test, y_test)"
      ],
      "execution_count": null,
      "outputs": [
        {
          "output_type": "execute_result",
          "data": {
            "text/plain": [
              "0.9468085106382979"
            ]
          },
          "metadata": {
            "tags": []
          },
          "execution_count": 196
        }
      ]
    },
    {
      "cell_type": "markdown",
      "metadata": {
        "id": "h3nAobkIuaIn"
      },
      "source": [
        "So changing the k number can change the accuracy! Let's do further experiment on this!"
      ]
    },
    {
      "cell_type": "code",
      "metadata": {
        "colab": {
          "base_uri": "https://localhost:8080/"
        },
        "id": "7WsfgJo7tFtl",
        "outputId": "30a052bf-ea5f-4f36-800b-56154b03d1ca"
      },
      "source": [
        "X_train, X_test, y_train, y_test = train_test_split( X, y, test_size=0.2)\n",
        "print ('Train set:', X_train.shape,  y_train.shape)\n",
        "print ('Test set:', X_test.shape,  y_test.shape)"
      ],
      "execution_count": null,
      "outputs": [
        {
          "output_type": "stream",
          "text": [
            "Train set: (455, 31) (455,)\n",
            "Test set: (114, 31) (114,)\n"
          ],
          "name": "stdout"
        }
      ]
    },
    {
      "cell_type": "code",
      "metadata": {
        "colab": {
          "base_uri": "https://localhost:8080/"
        },
        "id": "iCfXa56PtNB4",
        "outputId": "9b43418a-24ef-47df-f058-486a9fe2aacc"
      },
      "source": [
        "k = 10\n",
        "#Train Model and Predict  \n",
        "neigh = KNeighborsClassifier(n_neighbors = k).fit(X_train,y_train)\n",
        "print(neigh)\n",
        "#predicting part\n",
        "yhat = neigh.predict(X_test)\n",
        "yhat[0:5]\n",
        "mean_acc = np.zeros((k-1))\n",
        "std_acc = np.zeros((k-1))\n",
        "for n in range(1,k):\n",
        "    #Train Model and Predict  \n",
        "    neigh = KNeighborsClassifier(n_neighbors = n).fit(X_train,y_train)\n",
        "    yhat=neigh.predict(X_test)\n",
        "    mean_acc[n-1] = metrics.accuracy_score(y_test, yhat)\n",
        "std_acc[n-1]=np.std(yhat==y_test)/np.sqrt(yhat.shape[0])"
      ],
      "execution_count": null,
      "outputs": [
        {
          "output_type": "stream",
          "text": [
            "KNeighborsClassifier(algorithm='auto', leaf_size=30, metric='minkowski',\n",
            "                     metric_params=None, n_jobs=None, n_neighbors=10, p=2,\n",
            "                     weights='uniform')\n"
          ],
          "name": "stdout"
        }
      ]
    },
    {
      "cell_type": "code",
      "metadata": {
        "colab": {
          "base_uri": "https://localhost:8080/"
        },
        "id": "y3RQ1P2ItSnH",
        "outputId": "2922c2ea-e526-4376-f7f0-859498a7ab88"
      },
      "source": [
        "print(\"Train set Accuracy: \", metrics.accuracy_score(y_train, neigh.predict(X_train)))\n",
        "print(\"Test set Accuracy: \", metrics.accuracy_score(y_test, yhat))"
      ],
      "execution_count": null,
      "outputs": [
        {
          "output_type": "stream",
          "text": [
            "Train set Accuracy:  0.926509186351706\n",
            "Test set Accuracy:  0.973404255319149\n"
          ],
          "name": "stdout"
        }
      ]
    },
    {
      "cell_type": "code",
      "metadata": {
        "colab": {
          "base_uri": "https://localhost:8080/",
          "height": 297
        },
        "id": "fjtvhFq9tt6_",
        "outputId": "69422a48-0911-45d2-f100-0e70208be4ed"
      },
      "source": [
        "plt.plot(range(1,k),mean_acc,'g')\n",
        "plt.fill_between(range(1,k),mean_acc - 1 * std_acc,mean_acc + 1 * std_acc, alpha=0.10)\n",
        "plt.legend(('Accuracy ', '+/- 3 std'))\n",
        "plt.ylabel('Accuracy ')\n",
        "plt.xlabel('Number of estimators (K)')\n",
        "plt.tight_layout()\n",
        "plt.show()"
      ],
      "execution_count": null,
      "outputs": [
        {
          "output_type": "display_data",
          "data": {
            "image/png": "[encoded data removed]",
            "text/plain": [
              "<Figure size 432x288 with 1 Axes>"
            ]
          },
          "metadata": {
            "tags": []
          }
        }
      ]
    },
    {
      "cell_type": "code",
      "metadata": {
        "colab": {
          "base_uri": "https://localhost:8080/"
        },
        "id": "jy-YM3fkuvrP",
        "outputId": "69d95c72-42f8-47d7-a8d4-d4169bd859e1"
      },
      "source": [
        "print( \"The best accuracy was with\", mean_acc.max(), \"with k=\", mean_acc.argmax()+1)"
      ],
      "execution_count": null,
      "outputs": [
        {
          "output_type": "stream",
          "text": [
            "The best accuracy was with 0.973404255319149 with k= 7\n"
          ],
          "name": "stdout"
        }
      ]
    },
    {
      "cell_type": "markdown",
      "metadata": {
        "id": "p-g1p0wjuytP"
      },
      "source": [
        "But that was only in the range of 0 to 10. What if there was a k value between 0 to infinity? Let's find out the optimal K value"
      ]
    },
    {
      "cell_type": "markdown",
      "metadata": {
        "id": "9d87iD7hrT05"
      },
      "source": [
        "#Cross Validation\n",
        "Now performing Cross Validation to find the optimal number of neighbors in order to have a better prediction!"
      ]
    },
    {
      "cell_type": "code",
      "metadata": {
        "id": "E4EBeonlrRca"
      },
      "source": [
        "neighbors = []\n",
        "cv_scores = []\n",
        "  \n",
        "# perform 10 fold cross validation\n",
        "for k in range(1, 51, 2):\n",
        "    neighbors.append(k)\n",
        "    knn = KNeighborsClassifier(n_neighbors = k)\n",
        "    scores = cross_val_score(\n",
        "        knn, X_train, y_train, cv = 10, scoring = 'accuracy')\n",
        "    cv_scores.append(scores.mean())"
      ],
      "execution_count": null,
      "outputs": []
    },
    {
      "cell_type": "code",
      "metadata": {
        "colab": {
          "base_uri": "https://localhost:8080/",
          "height": 408
        },
        "id": "3r1luWtwrYnP",
        "outputId": "1cc8674e-86ab-44e9-bfa6-dcc741f18b4b"
      },
      "source": [
        "MSE = [1-x for x in cv_scores]\n",
        "  \n",
        "# determining the best k\n",
        "optimal_k = neighbors[MSE.index(min(MSE))]\n",
        "print('The optimal number of k neighbors to use is % d ' % optimal_k)\n",
        "  \n",
        "# plot misclassification error versus k\n",
        "plt.figure(figsize = (15, 6))\n",
        "plt.plot(neighbors, MSE)\n",
        "plt.xlabel('Neighbors Number')\n",
        "plt.ylabel('Misclassification Error')\n",
        "plt.show()"
      ],
      "execution_count": null,
      "outputs": [
        {
          "output_type": "stream",
          "text": [
            "The optimal number of k neighbors to use is  13 \n"
          ],
          "name": "stdout"
        },
        {
          "output_type": "display_data",
          "data": {
            "image/png": "[encoded data removed]",
            "text/plain": [
              "<Figure size 1080x432 with 1 Axes>"
            ]
          },
          "metadata": {
            "tags": []
          }
        }
      ]
    },
    {
      "cell_type": "markdown",
      "metadata": {
        "id": "fY4StjVYr-zH"
      },
      "source": [
        "Well let's check out the N neighbor = 7!"
      ]
    },
    {
      "cell_type": "code",
      "metadata": {
        "colab": {
          "base_uri": "https://localhost:8080/"
        },
        "id": "uNrypZy_r3U7",
        "outputId": "ff230cf8-a3a5-4aa7-c232-7b9ee5261342"
      },
      "source": [
        "knn = KNeighborsClassifier(n_neighbors = 7)\n",
        "knn.fit(X_train, y_train)\n",
        "knn.score(X_test, y_test)"
      ],
      "execution_count": null,
      "outputs": [
        {
          "output_type": "execute_result",
          "data": {
            "text/plain": [
              "0.9473684210526315"
            ]
          },
          "metadata": {
            "tags": []
          },
          "execution_count": 170
        }
      ]
    },
    {
      "cell_type": "markdown",
      "metadata": {
        "id": "p59iIvE9r-UD"
      },
      "source": [
        "Success it does have a high prediction rate!"
      ]
    }
  ]
}