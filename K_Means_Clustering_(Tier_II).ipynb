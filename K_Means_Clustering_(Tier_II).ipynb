{
  "nbformat": 4,
  "nbformat_minor": 0,
  "metadata": {
    "colab": {
      "name": "K-Means Clustering (Tier II).ipynb",
      "provenance": [],
      "collapsed_sections": [],
      "authorship_tag": "ABX9TyP056TRvUqZNbTkTB1scvo1",
      "include_colab_link": true
    },
    "kernelspec": {
      "name": "python3",
      "display_name": "Python 3"
    },
    "language_info": {
      "name": "python"
    }
  },
  "cells": [
    {
      "cell_type": "markdown",
      "metadata": {
        "id": "view-in-github",
        "colab_type": "text"
      },
      "source": [
        "<a href=\"https://colab.research.google.com/github/kevinguan-glitch/Breast-Cancer-Malignancy-Prediction/blob/main/K_Means_Clustering_(Tier_II).ipynb\" target=\"_parent\"><img src=\"https://colab.research.google.com/assets/colab-badge.svg\" alt=\"Open In Colab\"/></a>"
      ]
    },
    {
      "cell_type": "markdown",
      "metadata": {
        "id": "OYTn8lifTmPF"
      },
      "source": [
        "#K-Means Clustering\n",
        "1. Basic and well-known clustering algorithm \n",
        "2. Randomly picks centers and assigns points to the centers based on a distance metric\n",
        "3. Caclulates the mean of the new clusters and makes the mean the new cluster center\n",
        "4. Continues to do this until the means do not change (within some threshold) or the algorithm completes x number of iterations "
      ]
    },
    {
      "cell_type": "markdown",
      "metadata": {
        "id": "q70O82iqT-GW"
      },
      "source": [
        "#Mini-Batch K-Means\n",
        "* Fast and simple K-Means algorithm can reasonably cluster massive datasets that other algorithms could not handle\n",
        "* Mini-batch K-Means improves that advantage by reducing the amoujnt of data that needs to be stored in memory \n",
        "* Mini-batch K-Means selects a random subset of the data and performs K-Means on it, then does that again and again until the means converge \n",
        "* New parameter: learning rate - the more data in a cluster, the slower the changes within the batches (stops random outlier sample from ruining it)."
      ]
    },
    {
      "cell_type": "markdown",
      "metadata": {
        "id": "49mfx1GvUuLb"
      },
      "source": [
        "#Fuzzy C-Means\n",
        "* Functions similarly to K-Means, but allows data points to be in multiple clusters \n",
        "* Computers the means based on the weighted coefficiencts of cluster membership \n",
        "* If a point only has a 32 percent change of being in a cluster, does not have as big of an impact on the mean as a point which has a 73 percent chance \n",
        "* For many cases, we still need clusters even though we can consider multiple memberships\n",
        "* A cat can be both black and white - but if it is mostly black, then we want it in a black cluster for visualization purposes \n",
        "* We can control this via the fuzziness parameter of the algorithm \n",
        "* This is the threshold for how much a point needs to align with a cluster for it to be in the cluster "
      ]
    },
    {
      "cell_type": "markdown",
      "metadata": {
        "id": "o8mBDfq4VWT7"
      },
      "source": [
        "#Gaussian Mixture Models\n",
        "* Another variation of the K-Means Algorithm \n",
        "* Instead of optimizing cluster means, we optimize parameters of Gaussian distributions\n",
        "* Each cluster has its own distribution, and we optimize the mean, the covariance (width), and a mixing probability \n",
        "* Mixing probability that defines the prominence of the distritubtions relative to each other \n"
      ]
    },
    {
      "cell_type": "markdown",
      "metadata": {
        "id": "0ltrdqP9VqlU"
      },
      "source": [
        "#APPLICATIONS\n",
        "1. Fuzzy C-Means clustering is very useful for assessing problems with multiple answers (the cat is both black and white)\n",
        "\n",
        "2. Gaussian mixture models optimize the distributions and therefore match the actual shapes within the data very well \n",
        "\n",
        "3. Allows us to find strangely shaped (non-convex) clusters "
      ]
    }
  ]
}